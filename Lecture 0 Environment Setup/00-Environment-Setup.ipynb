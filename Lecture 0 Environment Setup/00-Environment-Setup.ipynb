{
 "cells": [
  {
   "cell_type": "markdown",
   "id": "831e0c63",
   "metadata": {},
   "source": [
    "# 🚀 Machine Learning Development Environment Setup\n",
    "\n",
    "## Understanding and Testing Your ML Development Stack\n",
    "\n",
    "**Course:** Learn ML by Building  \n",
    "**Time Required:** 30-45 minutes  \n",
    "**Prerequisites:** Completed SETUP.md instructions"
   ]
  },
  {
   "cell_type": "markdown",
   "id": "064ab544",
   "metadata": {},
   "source": [
    "### What We'll Do in This Notebook\n",
    "\n",
    "Now that you have Python and packages installed, we'll:\n",
    "1. **Understand** the ML technology stack and why each tool matters\n",
    "2. **Explore** your installed packages through hands-on examples\n",
    "3. **Verify** everything is working correctly\n",
    "4. **Learn** practical ML workflows with real code\n",
    "5. **Prepare** for the course ahead\n",
    "\n",
    "### Pre-flight Check\n",
    "\n",
    "Before continuing, confirm you've completed these steps from SETUP.md:\n",
    "- [ ] Python 3.9.6 installed\n",
    "- [ ] Virtual environment `ml_lectures_env` created and activated\n",
    "- [ ] All packages installed via `pip install -r requirements.txt`\n",
    "- [ ] Jupyter notebook launched from within `ml_lectures_env`\n",
    "\n",
    "If any of these aren't done, please complete SETUP.md first!"
   ]
  },
  {
   "cell_type": "markdown",
   "id": "6ef9b874",
   "metadata": {},
   "source": [
    "## Part 1: Understanding the ML Development Stack\n",
    "\n",
    "### Why Do We Need All These Tools?\n",
    "\n",
    "Think of ML development like cooking a gourmet meal:\n",
    "- **Python** = Your kitchen (the foundation)\n",
    "- **NumPy** = Your knife skills (fast, precise operations)\n",
    "- **Pandas** = Your prep station (organizing ingredients/data)\n",
    "- **Matplotlib** = Your plating (presentation)\n",
    "- **Scikit-learn** = Your recipe book (proven techniques)\n",
    "- **PyTorch** = Your advanced equipment (deep learning)\n",
    "\n",
    "### The Modern ML Stack Architecture\n",
    "\n",
    "```\n",
    "┌─────────────────────────────────────────┐\n",
    "│         Your ML Applications            │\n",
    "├─────────────────────────────────────────┤\n",
    "│    Jupyter Notebooks & VS Code          │\n",
    "├─────────────────────────────────────────┤\n",
    "│         High-Level ML Libraries         │\n",
    "│  (Transformers, LightGBM, XGBoost)      │\n",
    "├─────────────────────────────────────────┤\n",
    "│         Core ML Frameworks              │\n",
    "│   (PyTorch, TensorFlow, Scikit-learn)   │\n",
    "├─────────────────────────────────────────┤\n",
    "│      Scientific Computing Stack         │\n",
    "│    (NumPy, Pandas, Matplotlib)          │\n",
    "├─────────────────────────────────────────┤\n",
    "│          Python Interpreter             │\n",
    "│         (CPython 3.9-3.11)              │\n",
    "├─────────────────────────────────────────┤\n",
    "│     Operating System & Hardware         │\n",
    "└─────────────────────────────────────────┘\n",
    "```"
   ]
  },
  {
   "cell_type": "markdown",
   "id": "8657ad25",
   "metadata": {},
   "source": [
    "### Real-World Context\n",
    "\n",
    "This exact stack is used for:\n",
    "- **ChatGPT** training at OpenAI\n",
    "- **Tesla Autopilot** computer vision\n",
    "- **Netflix** recommendation systems\n",
    "- **Google Search** ranking algorithms\n",
    "- **Medical diagnosis** AI systems\n",
    "\n",
    "You're learning with professional tools from day one!"
   ]
  },
  {
   "cell_type": "code",
   "execution_count": 5,
   "id": "b40fefb0",
   "metadata": {},
   "outputs": [
    {
     "name": "stdout",
     "output_type": "stream",
     "text": [
      "============================================================\n",
      "SYSTEM CHECK\n",
      "============================================================\n",
      "✅ Python Version: 3.9.6\n",
      "   Perfect! You're using Python 3.9.x as recommended\n",
      "\n",
      "✅ Virtual Environment Active: True\n",
      "   Great! You're in the ml_lectures_env virtual environment\n",
      "\n",
      "✅ IPython Version: 8.18.1\n",
      "   Jupyter notebook is running properly\n",
      "\n",
      "============================================================\n",
      "If all checks show ✅, you're ready to continue!\n",
      "============================================================\n"
     ]
    }
   ],
   "source": [
    "# Let's verify your Python environment is correctly set up\n",
    "import sys\n",
    "import platform\n",
    "from pathlib import Path\n",
    "\n",
    "print(\"=\" * 60)\n",
    "print(\"SYSTEM CHECK\")\n",
    "print(\"=\" * 60)\n",
    "\n",
    "# Python version check\n",
    "python_version = sys.version_info\n",
    "print(f\"✅ Python Version: {python_version.major}.{python_version.minor}.{python_version.micro}\")\n",
    "\n",
    "if python_version.major == 3 and python_version.minor == 9:\n",
    "    print(\"   Perfect! You're using Python 3.9.x as recommended\")\n",
    "else:\n",
    "    print(f\"   ⚠️  Recommended version is 3.9.6, you have {sys.version.split()[0]}\")\n",
    "\n",
    "# Virtual environment check\n",
    "in_venv = hasattr(sys, 'real_prefix') or (hasattr(sys, 'base_prefix') and sys.base_prefix != sys.prefix)\n",
    "venv_path = sys.prefix\n",
    "\n",
    "print(f\"\\n✅ Virtual Environment Active: {in_venv}\")\n",
    "if 'ml_lectures_env' in venv_path:\n",
    "    print(\"   Great! You're in the ml_lectures_env virtual environment\")\n",
    "else:\n",
    "    print(f\"   Current environment: {venv_path}\")\n",
    "\n",
    "# Jupyter check\n",
    "try:\n",
    "    import IPython\n",
    "    print(f\"\\n✅ IPython Version: {IPython.__version__}\")\n",
    "    print(\"   Jupyter notebook is running properly\")\n",
    "except:\n",
    "    print(\"\\n❌ IPython not found - this notebook may not work correctly\")\n",
    "\n",
    "print(\"\\n\" + \"=\" * 60)\n",
    "print(\"If all checks show ✅, you're ready to continue!\")\n",
    "print(\"=\" * 60)"
   ]
  },
  {
   "cell_type": "markdown",
   "id": "3be41111",
   "metadata": {},
   "source": [
    "## Part 2: Exploring Your ML Toolkit\n",
    "\n",
    "Let's explore each major package and understand why it's essential for ML.\n",
    "\n",
    "### NumPy: The Foundation of Everything\n",
    "\n",
    "NumPy is the bedrock of scientific computing in Python. Every ML library builds on NumPy's fast array operations.\n",
    "\n",
    "Why NumPy is Essential for ML:\n",
    "* 50x faster than Python lists for mathematical operations\n",
    "* Memory efficient array storage\n",
    "* Vectorized operations (no loops needed)\n",
    "* Matrix operations (neural network foundation)"
   ]
  },
  {
   "cell_type": "code",
   "execution_count": 8,
   "id": "57fd8d64",
   "metadata": {},
   "outputs": [
    {
     "name": "stdout",
     "output_type": "stream",
     "text": [
      "\n",
      "⚡ PERFORMANCE COMPARISON\n",
      "----------------------------------------\n",
      "Python list operation: 0.0509 seconds\n",
      "NumPy array operation: 0.0012 seconds\n",
      "🚀 NumPy is 44.1x faster!\n",
      "\n",
      "🤖 ML-RELEVANT OPERATIONS\n",
      "----------------------------------------\n",
      "Input shape: (100, 20) (100 samples, 20 features)\n",
      "Hidden layer shape: (100, 10)\n",
      "Output shape: (100, 3)\n",
      "Output sample: [0.53784453 0.5048359  0.53796062]\n",
      "\n",
      "📊 STATISTICAL OPERATIONS\n",
      "----------------------------------------\n",
      "Mean: 99.93\n",
      "Std Dev: 14.88\n",
      "Median: 99.98\n",
      "95th Percentile: 124.49\n"
     ]
    }
   ],
   "source": [
    "import numpy as np\n",
    "# Performance comparison\n",
    "print(\"\\n⚡ PERFORMANCE COMPARISON\")\n",
    "print(\"-\" * 40)\n",
    "import time\n",
    "\n",
    "# Python list operation\n",
    "size = 1000000\n",
    "python_list = list(range(size))\n",
    "start = time.time()\n",
    "python_result = [x * 2 + 1 for x in python_list]\n",
    "python_time = time.time() - start\n",
    "\n",
    "# NumPy operation\n",
    "numpy_array = np.arange(size)\n",
    "start = time.time()\n",
    "numpy_result = numpy_array * 2 + 1\n",
    "numpy_time = time.time() - start\n",
    "\n",
    "print(f\"Python list operation: {python_time:.4f} seconds\")\n",
    "print(f\"NumPy array operation: {numpy_time:.4f} seconds\")\n",
    "print(f\"🚀 NumPy is {python_time/numpy_time:.1f}x faster!\")\n",
    "\n",
    "# ML-relevant operations\n",
    "print(\"\\n🤖 ML-RELEVANT OPERATIONS\")\n",
    "print(\"-\" * 40)\n",
    "\n",
    "# Simulating a mini neural network forward pass\n",
    "np.random.seed(42)\n",
    "n_samples, n_features = 100, 20\n",
    "n_hidden, n_output = 10, 3\n",
    "\n",
    "# Input data\n",
    "X = np.random.randn(n_samples, n_features)\n",
    "print(f\"Input shape: {X.shape} (100 samples, 20 features)\")\n",
    "\n",
    "# Weight matrices\n",
    "W1 = np.random.randn(n_features, n_hidden) * 0.1\n",
    "W2 = np.random.randn(n_hidden, n_output) * 0.1\n",
    "\n",
    "# Forward pass (what happens inside neural networks)\n",
    "Z1 = X @ W1  # Matrix multiplication\n",
    "A1 = np.maximum(0, Z1)  # ReLU activation\n",
    "Z2 = A1 @ W2\n",
    "A2 = 1 / (1 + np.exp(-Z2))  # Sigmoid activation\n",
    "\n",
    "print(f\"Hidden layer shape: {A1.shape}\")\n",
    "print(f\"Output shape: {A2.shape}\")\n",
    "print(f\"Output sample: {A2[0]}\")  # Probabilities for first sample\n",
    "\n",
    "# Statistical operations (data analysis)\n",
    "print(\"\\n📊 STATISTICAL OPERATIONS\")\n",
    "print(\"-\" * 40)\n",
    "data = np.random.normal(100, 15, 1000)  # Simulated test scores\n",
    "print(f\"Mean: {data.mean():.2f}\")\n",
    "print(f\"Std Dev: {data.std():.2f}\")\n",
    "print(f\"Median: {np.median(data):.2f}\")\n",
    "print(f\"95th Percentile: {np.percentile(data, 95):.2f}\")"
   ]
  },
  {
   "cell_type": "markdown",
   "id": "dedf889a",
   "metadata": {},
   "source": [
    "### Pandas: Real-World Data Handling\n",
    "\n",
    "Pandas is how you'll handle real datasets - CSVs, Excel files, databases. It's the bridge between raw data and ML models.\n"
   ]
  },
  {
   "cell_type": "code",
   "execution_count": 9,
   "id": "f0f9bf92",
   "metadata": {},
   "outputs": [
    {
     "name": "stdout",
     "output_type": "stream",
     "text": [
      "============================================================\n",
      "PANDAS: Data Manipulation Powerhouse\n",
      "============================================================\n",
      "Version: 2.3.1\n",
      "\n",
      "📊 DATASET OVERVIEW\n",
      "----------------------------------------\n",
      "  student_id  age  study_hours  assignments    midterm  attendance  \\\n",
      "0      S0000   24     1.752284            9  56.524038   58.435101   \n",
      "1      S0001   21     0.557420            7  77.843774   52.458451   \n",
      "2      S0002   22     3.048946            6  95.993950   91.365103   \n",
      "3      S0003   24     1.232320            9  68.288580   67.328521   \n",
      "4      S0004   20     2.693639            5  80.109229   83.845747   \n",
      "\n",
      "   final_grade  \n",
      "0    56.345145  \n",
      "1    55.067790  \n",
      "2    66.290784  \n",
      "3    61.445206  \n",
      "4    56.879374  \n",
      "\n",
      "Shape: (200, 7) (200 students, 7 features)\n",
      "\n",
      "📈 STATISTICAL SUMMARY\n",
      "----------------------------------------\n",
      "       study_hours  midterm  attendance  final_grade\n",
      "count       200.00   200.00      200.00       200.00\n",
      "mean          5.13    77.43       80.71        61.92\n",
      "std           5.63    16.66       11.68         7.38\n",
      "min           0.00    22.83       38.92        39.66\n",
      "25%           1.50    67.61       73.88        57.28\n",
      "50%           3.05    78.55       81.63        61.93\n",
      "75%           6.24    87.01       89.93        66.80\n",
      "max          30.46   114.25       98.80        83.09\n",
      "\n",
      "🔍 DATA INSIGHTS\n",
      "----------------------------------------\n",
      "Correlation with Final Grade:\n",
      "final_grade    1.000\n",
      "assignments    0.579\n",
      "attendance     0.416\n",
      "study_hours    0.334\n",
      "Name: final_grade, dtype: float64\n",
      "\n",
      "Top 10% Students:\n",
      "• Average study hours: 10.3\n",
      "• Average attendance: 88.3%\n",
      "• Average assignments: 8.1/10\n",
      "\n",
      "🤖 ML FEATURE ENGINEERING\n",
      "----------------------------------------\n",
      "Original features: 8\n",
      "After encoding: 12\n",
      "New features: ['grade_F', 'grade_D', 'grade_C', 'grade_B', 'grade_A']\n"
     ]
    }
   ],
   "source": [
    "import pandas as pd\n",
    "import numpy as np\n",
    "\n",
    "print(\"=\" * 60)\n",
    "print(\"PANDAS: Data Manipulation Powerhouse\")\n",
    "print(\"=\" * 60)\n",
    "print(f\"Version: {pd.__version__}\")\n",
    "\n",
    "# Create a realistic dataset\n",
    "np.random.seed(42)\n",
    "n_students = 200\n",
    "\n",
    "# Generate synthetic student data\n",
    "data = {\n",
    "    'student_id': [f'S{i:04d}' for i in range(n_students)],\n",
    "    'age': np.random.randint(18, 25, n_students),\n",
    "    'study_hours': np.random.exponential(5, n_students),\n",
    "    'assignments': np.random.binomial(10, 0.7, n_students),\n",
    "    'midterm': np.random.normal(75, 15, n_students),\n",
    "    'attendance': np.random.beta(8, 2, n_students) * 100,\n",
    "}\n",
    "\n",
    "df = pd.DataFrame(data)\n",
    "\n",
    "# Calculate final grade\n",
    "df['final_grade'] = (\n",
    "    0.3 * df['midterm'] + \n",
    "    0.3 * df['assignments'] * 10 + \n",
    "    0.2 * df['attendance'] + \n",
    "    0.2 * np.clip(df['study_hours'] * 2, 0, 20)\n",
    ")\n",
    "\n",
    "print(\"\\n📊 DATASET OVERVIEW\")\n",
    "print(\"-\" * 40)\n",
    "print(df.head())\n",
    "print(f\"\\nShape: {df.shape} ({df.shape[0]} students, {df.shape[1]} features)\")\n",
    "\n",
    "print(\"\\n📈 STATISTICAL SUMMARY\")\n",
    "print(\"-\" * 40)\n",
    "print(df[['study_hours', 'midterm', 'attendance', 'final_grade']].describe().round(2))\n",
    "\n",
    "print(\"\\n🔍 DATA INSIGHTS\")\n",
    "print(\"-\" * 40)\n",
    "\n",
    "# Find correlations\n",
    "correlations = df[['study_hours', 'assignments', 'attendance', 'final_grade']].corr()\n",
    "print(\"Correlation with Final Grade:\")\n",
    "print(correlations['final_grade'].sort_values(ascending=False).round(3))\n",
    "\n",
    "# Identify top performers\n",
    "top_10_percent = df.nlargest(int(0.1 * len(df)), 'final_grade')\n",
    "print(f\"\\nTop 10% Students:\")\n",
    "print(f\"• Average study hours: {top_10_percent['study_hours'].mean():.1f}\")\n",
    "print(f\"• Average attendance: {top_10_percent['attendance'].mean():.1f}%\")\n",
    "print(f\"• Average assignments: {top_10_percent['assignments'].mean():.1f}/10\")\n",
    "\n",
    "# ML-ready features\n",
    "print(\"\\n🤖 ML FEATURE ENGINEERING\")\n",
    "print(\"-\" * 40)\n",
    "\n",
    "# Create categorical features\n",
    "df['grade_category'] = pd.cut(df['final_grade'], \n",
    "                              bins=[0, 60, 70, 80, 90, 100],\n",
    "                              labels=['F', 'D', 'C', 'B', 'A'])\n",
    "\n",
    "# One-hot encoding\n",
    "df_encoded = pd.get_dummies(df, columns=['grade_category'], prefix='grade')\n",
    "print(f\"Original features: {len(df.columns)}\")\n",
    "print(f\"After encoding: {len(df_encoded.columns)}\")\n",
    "print(f\"New features: {[col for col in df_encoded.columns if 'grade_' in col]}\")"
   ]
  },
  {
   "cell_type": "markdown",
   "id": "6e9844be",
   "metadata": {},
   "source": [
    "### Matplotlib & Seaborn: Seeing Your Data\n",
    "\n",
    "Visualization is crucial for understanding data patterns, model behavior, and communicating results.\n"
   ]
  },
  {
   "cell_type": "code",
   "execution_count": 17,
   "id": "e0d72b45",
   "metadata": {},
   "outputs": [
    {
     "name": "stdout",
     "output_type": "stream",
     "text": [
      "============================================================\n",
      "VISUALIZATION LIBRARIES\n",
      "============================================================\n",
      "Matplotlib Version: 3.9.4\n",
      "Seaborn Version: 0.13.2\n"
     ]
    },
    {
     "data": {
      "text/plain": [
       "<matplotlib.legend.Legend at 0x307fef460>"
      ]
     },
     "execution_count": 17,
     "metadata": {},
     "output_type": "execute_result"
    },
    {
     "data": {
      "image/png": "[encoded data removed]",
      "text/plain": [
       "<Figure size 600x400 with 1 Axes>"
      ]
     },
     "metadata": {},
     "output_type": "display_data"
    }
   ],
   "source": [
    "import matplotlib.pyplot as plt\n",
    "import seaborn as sns\n",
    "import numpy as np\n",
    "import warnings\n",
    "warnings.filterwarnings('ignore')\n",
    "\n",
    "print(\"=\" * 60)\n",
    "print(\"VISUALIZATION LIBRARIES\")\n",
    "print(\"=\" * 60)\n",
    "print(f\"Matplotlib Version: {plt.matplotlib.__version__}\")\n",
    "print(f\"Seaborn Version: {sns.__version__}\")\n",
    "\n",
    "# Set style for better-looking plots\n",
    "plt.style.use('seaborn-v0_8-darkgrid')\n",
    "sns.set_palette(\"husl\")\n",
    "\n",
    "# Create comprehensive visualization\n",
    "fig, ax1 = plt.subplots(figsize=(6, 4))  # creates its own figure\n",
    "\n",
    "# 1. Distribution Plot\n",
    "data = np.random.normal(100, 15, 1000)\n",
    "ax1.hist(data, bins=30, alpha=0.7, color='steelblue', edgecolor='black')\n",
    "ax1.axvline(data.mean(), color='red', linestyle='--', linewidth=2, label=f'Mean: {data.mean():.1f}')\n",
    "ax1.set_title('Data Distribution', fontweight='bold')\n",
    "ax1.set_xlabel('Value')\n",
    "ax1.set_ylabel('Frequency')\n",
    "ax1.legend()"
   ]
  },
  {
   "cell_type": "code",
   "execution_count": 20,
   "id": "dfedaaa6",
   "metadata": {},
   "outputs": [
    {
     "data": {
      "text/plain": [
       "<matplotlib.legend.Legend at 0x3a807caf0>"
      ]
     },
     "execution_count": 20,
     "metadata": {},
     "output_type": "execute_result"
    },
    {
     "data": {
      "image/png": "[encoded data removed]",
      "text/plain": [
       "<Figure size 600x400 with 1 Axes>"
      ]
     },
     "metadata": {},
     "output_type": "display_data"
    }
   ],
   "source": [
    "# 2. Scatter with Regression\n",
    "fig, ax2 = plt.subplots(figsize=(6, 4))\n",
    "x = np.random.randn(100)\n",
    "y = 2 * x + 1 + np.random.randn(100) * 0.5\n",
    "ax2.scatter(x, y, alpha=0.6, s=50)\n",
    "z = np.polyfit(x, y, 1)\n",
    "p = np.poly1d(z)\n",
    "ax2.plot(sorted(x), p(sorted(x)), \"r-\", linewidth=2, label=f'y = {z[0]:.2f}x + {z[1]:.2f}')\n",
    "ax2.set_title('Linear Relationship', fontweight='bold')\n",
    "ax2.set_xlabel('Feature X')\n",
    "ax2.set_ylabel('Target Y')\n",
    "ax2.legend()"
   ]
  },
  {
   "cell_type": "code",
   "execution_count": 21,
   "id": "2b46a15f",
   "metadata": {},
   "outputs": [
    {
     "data": {
      "text/plain": [
       "<matplotlib.colorbar.Colorbar at 0x3a8fcfb20>"
      ]
     },
     "execution_count": 21,
     "metadata": {},
     "output_type": "execute_result"
    },
    {
     "data": {
      "image/png": "[encoded data removed]",
      "text/plain": [
       "<Figure size 600x400 with 2 Axes>"
      ]
     },
     "metadata": {},
     "output_type": "display_data"
    }
   ],
   "source": [
    "# 3. Classification Visualization\n",
    "fig, ax3 = plt.subplots(figsize=(6, 4))\n",
    "from sklearn.datasets import make_classification\n",
    "X, y = make_classification(n_samples=100, n_features=2, n_redundant=0,\n",
    "                          n_informative=2, n_clusters_per_class=1, random_state=42)\n",
    "scatter = ax3.scatter(X[:, 0], X[:, 1], c=y, cmap='viridis', alpha=0.7, edgecolors='black')\n",
    "ax3.set_title('Binary Classification', fontweight='bold')\n",
    "ax3.set_xlabel('Feature 1')\n",
    "ax3.set_ylabel('Feature 2')\n",
    "plt.colorbar(scatter, ax=ax3)"
   ]
  },
  {
   "cell_type": "code",
   "execution_count": 22,
   "id": "3724b33d",
   "metadata": {},
   "outputs": [
    {
     "data": {
      "image/png": "[encoded data removed]",
      "text/plain": [
       "<Figure size 600x400 with 1 Axes>"
      ]
     },
     "metadata": {},
     "output_type": "display_data"
    }
   ],
   "source": [
    "# 4. Training Curves\n",
    "fig, ax4 = plt.subplots(figsize=(6, 4))\n",
    "epochs = np.arange(1, 21)\n",
    "train_loss = 1 / epochs + np.random.normal(0, 0.02, 20)\n",
    "val_loss = 1 / epochs + 0.1 + np.random.normal(0, 0.03, 20)\n",
    "ax4.plot(epochs, train_loss, 'b-', linewidth=2, label='Training')\n",
    "ax4.plot(epochs, val_loss, 'r-', linewidth=2, label='Validation')\n",
    "ax4.set_title('Model Training Progress', fontweight='bold')\n",
    "ax4.set_xlabel('Epoch')\n",
    "ax4.set_ylabel('Loss')\n",
    "ax4.legend()\n",
    "ax4.grid(alpha=0.3)"
   ]
  },
  {
   "cell_type": "code",
   "execution_count": 23,
   "id": "e42f15d0",
   "metadata": {},
   "outputs": [
    {
     "data": {
      "text/plain": [
       "Text(0.5, 1.0, 'Model Performance')"
      ]
     },
     "execution_count": 23,
     "metadata": {},
     "output_type": "execute_result"
    },
    {
     "data": {
      "image/png": "[encoded data removed]",
      "text/plain": [
       "<Figure size 600x400 with 2 Axes>"
      ]
     },
     "metadata": {},
     "output_type": "display_data"
    }
   ],
   "source": [
    "# 5. Confusion Matrix\n",
    "fig, ax5 = plt.subplots(figsize=(6, 4))\n",
    "confusion_matrix = np.array([[85, 15], [10, 90]])\n",
    "sns.heatmap(confusion_matrix, annot=True, fmt='d', cmap='Blues',\n",
    "            xticklabels=['Predicted 0', 'Predicted 1'],\n",
    "            yticklabels=['Actual 0', 'Actual 1'], ax=ax5, cbar_kws={'shrink': 0.8})\n",
    "ax5.set_title('Model Performance', fontweight='bold')"
   ]
  },
  {
   "cell_type": "code",
   "execution_count": 24,
   "id": "aae53c19",
   "metadata": {},
   "outputs": [
    {
     "data": {
      "image/png": "[encoded data removed]",
      "text/plain": [
       "<Figure size 600x400 with 1 Axes>"
      ]
     },
     "metadata": {},
     "output_type": "display_data"
    }
   ],
   "source": [
    "# 6. Feature Importance\n",
    "fig, ax6 = plt.subplots(figsize=(6, 4))\n",
    "features = ['Age', 'Study Hours', 'Attendance', 'Assignments', 'Midterm']\n",
    "importance = [0.05, 0.30, 0.25, 0.15, 0.25]\n",
    "colors = plt.cm.viridis(np.linspace(0.3, 0.9, len(features)))\n",
    "bars = ax6.barh(features, importance, color=colors)\n",
    "ax6.set_title('Feature Importance', fontweight='bold')\n",
    "ax6.set_xlabel('Importance Score')\n",
    "for bar, val in zip(bars, importance):\n",
    "    ax6.text(val + 0.01, bar.get_y() + bar.get_height()/2, \n",
    "            f'{val:.0%}', va='center')\n",
    "\n",
    "plt.suptitle('Essential ML Visualizations', fontsize=16, fontweight='bold', y=1.02)\n",
    "plt.tight_layout()\n",
    "plt.show()"
   ]
  },
  {
   "cell_type": "markdown",
   "id": "9d8c96d9",
   "metadata": {},
   "source": [
    "### Scikit-learn: Your ML Swiss Army Knife\n",
    "\n",
    "Scikit-learn provides battle-tested implementations of all classical ML algorithms with a consistent, simple API.\n"
   ]
  },
  {
   "cell_type": "code",
   "execution_count": 25,
   "id": "110eff29",
   "metadata": {},
   "outputs": [
    {
     "name": "stdout",
     "output_type": "stream",
     "text": [
      "============================================================\n",
      "SCIKIT-LEARN: Complete ML Pipeline\n",
      "============================================================\n",
      "Version: 1.6.1\n",
      "\n",
      "📊 DATASET\n",
      "----------------------------------------\n",
      "Samples: 500\n",
      "Features: 10\n",
      "Classes: [0 1]\n",
      "Class distribution: [251 249]\n",
      "\n",
      "🔄 DATA SPLITTING\n",
      "----------------------------------------\n",
      "Training set: 400 samples\n",
      "Test set: 100 samples\n",
      "\n",
      "⚙️ PREPROCESSING\n",
      "----------------------------------------\n",
      "Feature scaling applied (StandardScaler)\n",
      "Mean after scaling: -0.000\n",
      "Std after scaling: 1.000\n",
      "\n",
      "🎯 MODEL TRAINING\n",
      "----------------------------------------\n",
      "Model: Random Forest with 100 trees\n",
      "\n",
      "📈 PERFORMANCE\n",
      "----------------------------------------\n",
      "Training accuracy: 1.000\n",
      "Testing accuracy: 0.860\n",
      "\n",
      "5-Fold Cross-validation:\n",
      "  Mean: 0.895\n",
      "  Std: 0.019\n",
      "\n",
      "🎯 DETAILED RESULTS\n",
      "----------------------------------------\n",
      "Confusion Matrix:\n",
      "[[39  7]\n",
      " [ 7 47]]\n",
      "\n",
      "Top 3 Important Features:\n",
      "  1. Feature 9: 0.236\n",
      "  2. Feature 0: 0.143\n",
      "  3. Feature 1: 0.107\n"
     ]
    }
   ],
   "source": [
    "from sklearn.model_selection import train_test_split, cross_val_score\n",
    "from sklearn.preprocessing import StandardScaler\n",
    "from sklearn.ensemble import RandomForestClassifier\n",
    "from sklearn.metrics import classification_report, confusion_matrix\n",
    "import numpy as np\n",
    "\n",
    "print(\"=\" * 60)\n",
    "print(\"SCIKIT-LEARN: Complete ML Pipeline\")\n",
    "print(\"=\" * 60)\n",
    "\n",
    "import sklearn\n",
    "print(f\"Version: {sklearn.__version__}\")\n",
    "\n",
    "# Generate a classification dataset\n",
    "from sklearn.datasets import make_classification\n",
    "X, y = make_classification(\n",
    "    n_samples=500,\n",
    "    n_features=10,\n",
    "    n_informative=7,\n",
    "    n_redundant=3,\n",
    "    n_classes=2,\n",
    "    random_state=42\n",
    ")\n",
    "\n",
    "print(\"\\n📊 DATASET\")\n",
    "print(\"-\" * 40)\n",
    "print(f\"Samples: {X.shape[0]}\")\n",
    "print(f\"Features: {X.shape[1]}\")\n",
    "print(f\"Classes: {np.unique(y)}\")\n",
    "print(f\"Class distribution: {np.bincount(y)}\")\n",
    "\n",
    "# Split data\n",
    "X_train, X_test, y_train, y_test = train_test_split(\n",
    "    X, y, test_size=0.2, random_state=42\n",
    ")\n",
    "\n",
    "print(\"\\n🔄 DATA SPLITTING\")\n",
    "print(\"-\" * 40)\n",
    "print(f\"Training set: {X_train.shape[0]} samples\")\n",
    "print(f\"Test set: {X_test.shape[0]} samples\")\n",
    "\n",
    "# Preprocessing\n",
    "scaler = StandardScaler()\n",
    "X_train_scaled = scaler.fit_transform(X_train)\n",
    "X_test_scaled = scaler.transform(X_test)\n",
    "\n",
    "print(\"\\n⚙️ PREPROCESSING\")\n",
    "print(\"-\" * 40)\n",
    "print(f\"Feature scaling applied (StandardScaler)\")\n",
    "print(f\"Mean after scaling: {X_train_scaled.mean():.3f}\")\n",
    "print(f\"Std after scaling: {X_train_scaled.std():.3f}\")\n",
    "\n",
    "# Train model\n",
    "print(\"\\n🎯 MODEL TRAINING\")\n",
    "print(\"-\" * 40)\n",
    "model = RandomForestClassifier(n_estimators=100, random_state=42)\n",
    "model.fit(X_train_scaled, y_train)\n",
    "print(f\"Model: Random Forest with 100 trees\")\n",
    "\n",
    "# Evaluate\n",
    "train_score = model.score(X_train_scaled, y_train)\n",
    "test_score = model.score(X_test_scaled, y_test)\n",
    "\n",
    "print(\"\\n📈 PERFORMANCE\")\n",
    "print(\"-\" * 40)\n",
    "print(f\"Training accuracy: {train_score:.3f}\")\n",
    "print(f\"Testing accuracy: {test_score:.3f}\")\n",
    "\n",
    "# Cross-validation\n",
    "cv_scores = cross_val_score(model, X_train_scaled, y_train, cv=5)\n",
    "print(f\"\\n5-Fold Cross-validation:\")\n",
    "print(f\"  Mean: {cv_scores.mean():.3f}\")\n",
    "print(f\"  Std: {cv_scores.std():.3f}\")\n",
    "\n",
    "# Predictions\n",
    "y_pred = model.predict(X_test_scaled)\n",
    "\n",
    "print(\"\\n🎯 DETAILED RESULTS\")\n",
    "print(\"-\" * 40)\n",
    "print(\"Confusion Matrix:\")\n",
    "print(confusion_matrix(y_test, y_pred))\n",
    "\n",
    "# Feature importance\n",
    "importance = model.feature_importances_\n",
    "top_3 = np.argsort(importance)[-3:][::-1]\n",
    "print(f\"\\nTop 3 Important Features:\")\n",
    "for i, idx in enumerate(top_3, 1):\n",
    "    print(f\"  {i}. Feature {idx}: {importance[idx]:.3f}\")"
   ]
  },
  {
   "cell_type": "markdown",
   "id": "43ac10fc",
   "metadata": {},
   "source": [
    "### PyTorch: Deep Learning Power\n",
    "\n",
    "PyTorch enables you to build and train neural networks, from simple MLPs to complex architectures like transformers.\n"
   ]
  },
  {
   "cell_type": "code",
   "execution_count": 26,
   "id": "7c302e3b",
   "metadata": {},
   "outputs": [
    {
     "name": "stdout",
     "output_type": "stream",
     "text": [
      "============================================================\n",
      "PYTORCH: Deep Learning Framework\n",
      "============================================================\n",
      "Version: 2.7.1\n",
      "\n",
      "💻 Hardware:\n",
      "  CUDA available: False\n",
      "  MPS available (Mac M1/M2): True\n",
      "\n",
      "🧠 Neural Network Created:\n",
      "  Total parameters: 914\n",
      "  Input shape: torch.Size([1, 10])\n",
      "  Output shape: torch.Size([1, 2])\n",
      "  Output: [-0.29522833  0.11840338]\n",
      "\n",
      "✅ PyTorch is ready for deep learning!\n"
     ]
    }
   ],
   "source": [
    "try:\n",
    "    import torch\n",
    "    import torch.nn as nn\n",
    "    import torch.nn.functional as F\n",
    "    \n",
    "    print(\"=\" * 60)\n",
    "    print(\"PYTORCH: Deep Learning Framework\")\n",
    "    print(\"=\" * 60)\n",
    "    print(f\"Version: {torch.__version__}\")\n",
    "    \n",
    "    # Check hardware acceleration\n",
    "    print(f\"\\n💻 Hardware:\")\n",
    "    print(f\"  CUDA available: {torch.cuda.is_available()}\")\n",
    "    print(f\"  MPS available (Mac M1/M2): {torch.backends.mps.is_available()}\")\n",
    "    \n",
    "    # Simple neural network\n",
    "    class SimpleNet(nn.Module):\n",
    "        def __init__(self):\n",
    "            super(SimpleNet, self).__init__()\n",
    "            self.fc1 = nn.Linear(10, 32)\n",
    "            self.fc2 = nn.Linear(32, 16)\n",
    "            self.fc3 = nn.Linear(16, 2)\n",
    "            \n",
    "        def forward(self, x):\n",
    "            x = F.relu(self.fc1(x))\n",
    "            x = F.relu(self.fc2(x))\n",
    "            x = self.fc3(x)\n",
    "            return x\n",
    "    \n",
    "    # Create model\n",
    "    model = SimpleNet()\n",
    "    \n",
    "    print(\"\\n🧠 Neural Network Created:\")\n",
    "    param_count = sum(p.numel() for p in model.parameters())\n",
    "    print(f\"  Total parameters: {param_count:,}\")\n",
    "    \n",
    "    # Test forward pass\n",
    "    test_input = torch.randn(1, 10)\n",
    "    output = model(test_input)\n",
    "    print(f\"  Input shape: {test_input.shape}\")\n",
    "    print(f\"  Output shape: {output.shape}\")\n",
    "    print(f\"  Output: {output.data.numpy()[0]}\")\n",
    "    \n",
    "    print(\"\\n✅ PyTorch is ready for deep learning!\")\n",
    "    \n",
    "except ImportError as e:\n",
    "    print(\"⚠️ PyTorch not installed or not working properly\")\n",
    "    print(f\"Error: {e}\")\n",
    "    print(\"\\nTo install PyTorch, run:\")\n",
    "    print(\"pip install torch torchvision torchaudio\")"
   ]
  },
  {
   "cell_type": "markdown",
   "id": "94e19dbc",
   "metadata": {},
   "source": [
    "## Part 3: Complete Environment Verification\n",
    "\n",
    "Let's run a comprehensive check to ensure all components are properly installed and working together.\n"
   ]
  },
  {
   "cell_type": "code",
   "execution_count": 28,
   "id": "fe8e20dc",
   "metadata": {},
   "outputs": [
    {
     "name": "stdout",
     "output_type": "stream",
     "text": [
      "============================================================\n",
      "COMPREHENSIVE ENVIRONMENT CHECK\n",
      "============================================================\n",
      "\n",
      "🖥️ SYSTEM INFORMATION\n",
      "----------------------------------------\n",
      "Python: 3.9.6\n",
      "Location: /Users/ming/Dropbox/learn-ml-by-building/ml_lectures_env/bin/python\n",
      "Virtual Env: Yes ✅\n",
      "Current Directory: Lecture 0 Environment Setup\n",
      "\n",
      "📦 PACKAGE STATUS\n",
      "----------------------------------------\n",
      "\n",
      "Core:\n",
      "  ✅ numpy        2.0.2\n",
      "  ✅ pandas       2.3.1\n",
      "  ✅ matplotlib   3.9.4\n",
      "  ✅ seaborn      0.13.2\n",
      "  ✅ scipy        1.13.1\n",
      "\n",
      "ML:\n",
      "  ✅ sklearn      1.6.1\n",
      "\n",
      "Jupyter:\n",
      "  ✅ IPython      8.18.1\n",
      "  ✅ notebook     6.5.7\n",
      "  ✅ ipykernel    6.29.5\n",
      "\n",
      "Utilities:\n",
      "  ✅ tqdm         4.67.1\n",
      "  ✅ requests     2.32.4\n",
      "  ✅ plotly       6.2.0\n",
      "\n",
      "============================================================\n",
      "SUMMARY\n",
      "============================================================\n",
      "🎉 PERFECT! All required packages are installed!\n",
      "📊 Status: 12/12 packages installed\n",
      "🚀 You're ready to start the course!\n",
      "\n",
      "============================================================\n"
     ]
    }
   ],
   "source": [
    "import sys\n",
    "import importlib\n",
    "from pathlib import Path\n",
    "\n",
    "print(\"=\" * 60)\n",
    "print(\"COMPREHENSIVE ENVIRONMENT CHECK\")\n",
    "print(\"=\" * 60)\n",
    "\n",
    "# System info\n",
    "print(\"\\n🖥️ SYSTEM INFORMATION\")\n",
    "print(\"-\" * 40)\n",
    "print(f\"Python: {sys.version.split()[0]}\")\n",
    "print(f\"Location: {sys.executable}\")\n",
    "print(f\"Virtual Env: {'Yes ✅' if 'ml_lectures_env' in sys.executable else 'No ❌'}\")\n",
    "\n",
    "# Check current directory\n",
    "current_dir = Path.cwd()\n",
    "print(f\"Current Directory: {current_dir.name}\")\n",
    "\n",
    "# Core packages check\n",
    "print(\"\\n📦 PACKAGE STATUS\")\n",
    "print(\"-\" * 40)\n",
    "\n",
    "packages = {\n",
    "    'Core': {\n",
    "        'numpy': None,\n",
    "        'pandas': None,\n",
    "        'matplotlib': 'matplotlib',\n",
    "        'seaborn': None,\n",
    "        'scipy': None,\n",
    "    },\n",
    "    'ML': {\n",
    "        'sklearn': 'scikit-learn',\n",
    "    },\n",
    "    'Jupyter': {\n",
    "        'IPython': None,\n",
    "        'notebook': None,\n",
    "        'ipykernel': None,\n",
    "    },\n",
    "    'Utilities': {\n",
    "        'tqdm': None,\n",
    "        'requests': None,\n",
    "        'plotly': None,\n",
    "    }\n",
    "}\n",
    "\n",
    "all_good = True\n",
    "installed_count = 0\n",
    "total_count = 0\n",
    "\n",
    "for category, pkg_dict in packages.items():\n",
    "    print(f\"\\n{category}:\")\n",
    "    for package, display_name in pkg_dict.items():\n",
    "        total_count += 1\n",
    "        try:\n",
    "            module = importlib.import_module(package)\n",
    "            version = getattr(module, '__version__', 'installed')\n",
    "            print(f\"  ✅ {package:12} {version}\")\n",
    "            installed_count += 1\n",
    "        except ImportError:\n",
    "            if display_name == '(optional)':\n",
    "                print(f\"  ⚪ {package:12} (optional - not installed)\")\n",
    "            else:\n",
    "                print(f\"  ❌ {package:12} NOT INSTALLED\")\n",
    "                all_good = False\n",
    "\n",
    "# Summary\n",
    "print(\"\\n\" + \"=\" * 60)\n",
    "print(\"SUMMARY\")\n",
    "print(\"=\" * 60)\n",
    "\n",
    "success_rate = (installed_count / total_count) * 100\n",
    "\n",
    "if all_good:\n",
    "    print(\"🎉 PERFECT! All required packages are installed!\")\n",
    "    print(f\"📊 Status: {installed_count}/{total_count} packages installed\")\n",
    "    print(\"🚀 You're ready to start the course!\")\n",
    "elif success_rate > 80:\n",
    "    print(f\"✅ GOOD! Most packages are installed ({installed_count}/{total_count})\")\n",
    "    print(\"💡 Some optional packages are missing, but you can proceed\")\n",
    "else:\n",
    "    print(f\"⚠️  Some required packages are missing ({installed_count}/{total_count})\")\n",
    "    print(\"📝 Please run: pip install -r requirements.txt\")\n",
    "\n",
    "print(\"\\n\" + \"=\" * 60)"
   ]
  },
  {
   "cell_type": "markdown",
   "id": "672e2595",
   "metadata": {},
   "source": [
    "## Part 4: Quick ML Workflow Demo\n",
    "\n",
    "Let's run through a complete mini ML project to confirm everything works together!"
   ]
  },
  {
   "cell_type": "code",
   "execution_count": 29,
   "id": "305f2aca",
   "metadata": {},
   "outputs": [
    {
     "name": "stdout",
     "output_type": "stream",
     "text": [
      "============================================================\n",
      "MINI PROJECT: Iris Flower Classification\n",
      "============================================================\n",
      "\n",
      "1️⃣ LOADING DATA\n",
      "Dataset: 150 samples, 4 features\n",
      "Features: ['sepal length (cm)', 'sepal width (cm)', 'petal length (cm)', 'petal width (cm)']\n",
      "Classes: ['setosa' 'versicolor' 'virginica']\n"
     ]
    }
   ],
   "source": [
    "# Complete mini ML project: Iris classification\n",
    "import numpy as np\n",
    "import pandas as pd\n",
    "import matplotlib.pyplot as plt\n",
    "from sklearn.datasets import load_iris\n",
    "from sklearn.model_selection import train_test_split\n",
    "from sklearn.preprocessing import StandardScaler\n",
    "from sklearn.ensemble import RandomForestClassifier\n",
    "from sklearn.metrics import accuracy_score, classification_report\n",
    "import warnings\n",
    "warnings.filterwarnings('ignore')\n",
    "\n",
    "print(\"=\" * 60)\n",
    "print(\"MINI PROJECT: Iris Flower Classification\")\n",
    "print(\"=\" * 60)\n",
    "\n",
    "# 1. Load Data\n",
    "print(\"\\n1️⃣ LOADING DATA\")\n",
    "iris = load_iris()\n",
    "X, y = iris.data, iris.target\n",
    "feature_names = iris.feature_names\n",
    "target_names = iris.target_names\n",
    "\n",
    "print(f\"Dataset: {X.shape[0]} samples, {X.shape[1]} features\")\n",
    "print(f\"Features: {feature_names}\")\n",
    "print(f\"Classes: {target_names}\")"
   ]
  },
  {
   "cell_type": "code",
   "execution_count": 30,
   "id": "b0bde9a3",
   "metadata": {},
   "outputs": [
    {
     "name": "stdout",
     "output_type": "stream",
     "text": [
      "\n",
      "2️⃣ PREPARING DATA\n",
      "Training: 105 samples\n",
      "Testing: 45 samples\n"
     ]
    }
   ],
   "source": [
    "# 2. Prepare Data\n",
    "print(\"\\n2️⃣ PREPARING DATA\")\n",
    "X_train, X_test, y_train, y_test = train_test_split(X, y, test_size=0.3, random_state=42)\n",
    "scaler = StandardScaler()\n",
    "X_train_scaled = scaler.fit_transform(X_train)\n",
    "X_test_scaled = scaler.transform(X_test)\n",
    "print(f\"Training: {len(X_train)} samples\")\n",
    "print(f\"Testing: {len(X_test)} samples\")"
   ]
  },
  {
   "cell_type": "code",
   "execution_count": 31,
   "id": "47433368",
   "metadata": {},
   "outputs": [
    {
     "name": "stdout",
     "output_type": "stream",
     "text": [
      "\n",
      "3️⃣ TRAINING MODEL\n",
      "Model: Random Forest Classifier\n",
      "Trees: 50\n"
     ]
    }
   ],
   "source": [
    "# 3. Train Model\n",
    "print(\"\\n3️⃣ TRAINING MODEL\")\n",
    "model = RandomForestClassifier(n_estimators=50, random_state=42)\n",
    "model.fit(X_train_scaled, y_train)\n",
    "print(\"Model: Random Forest Classifier\")\n",
    "print(f\"Trees: 50\")"
   ]
  },
  {
   "cell_type": "code",
   "execution_count": 32,
   "id": "46718581",
   "metadata": {},
   "outputs": [
    {
     "name": "stdout",
     "output_type": "stream",
     "text": [
      "\n",
      "4️⃣ EVALUATION\n",
      "Accuracy: 100.00%\n"
     ]
    }
   ],
   "source": [
    "# 4. Evaluate\n",
    "print(\"\\n4️⃣ EVALUATION\")\n",
    "y_pred = model.predict(X_test_scaled)\n",
    "accuracy = accuracy_score(y_test, y_pred)\n",
    "print(f\"Accuracy: {accuracy:.2%}\")"
   ]
  },
  {
   "cell_type": "code",
   "execution_count": 33,
   "id": "90228f1a",
   "metadata": {},
   "outputs": [
    {
     "name": "stdout",
     "output_type": "stream",
     "text": [
      "\n",
      "5️⃣ VISUALIZATION\n"
     ]
    },
    {
     "data": {
      "image/png": "[encoded data removed]",
      "text/plain": [
       "<Figure size 1200x400 with 3 Axes>"
      ]
     },
     "metadata": {},
     "output_type": "display_data"
    },
    {
     "name": "stdout",
     "output_type": "stream",
     "text": [
      "\n",
      "✅ Complete ML pipeline executed successfully!\n",
      "🎉 Your environment is perfectly configured for the course!\n"
     ]
    }
   ],
   "source": [
    "# 5. Visualize Results\n",
    "print(\"\\n5️⃣ VISUALIZATION\")\n",
    "fig, axes = plt.subplots(1, 2, figsize=(12, 4))\n",
    "\n",
    "# Feature importance\n",
    "importance = model.feature_importances_\n",
    "axes[0].barh(range(len(importance)), importance, color='steelblue')\n",
    "axes[0].set_yticks(range(len(feature_names)))\n",
    "axes[0].set_yticklabels(feature_names)\n",
    "axes[0].set_xlabel('Importance')\n",
    "axes[0].set_title('Feature Importance')\n",
    "\n",
    "# Predictions vs Actual\n",
    "from sklearn.metrics import confusion_matrix\n",
    "cm = confusion_matrix(y_test, y_pred)\n",
    "im = axes[1].imshow(cm, interpolation='nearest', cmap=plt.cm.Blues)\n",
    "axes[1].set_xlabel('Predicted')\n",
    "axes[1].set_ylabel('Actual')\n",
    "axes[1].set_title('Confusion Matrix')\n",
    "axes[1].set_xticks([0, 1, 2])\n",
    "axes[1].set_yticks([0, 1, 2])\n",
    "axes[1].set_xticklabels(target_names, rotation=45)\n",
    "axes[1].set_yticklabels(target_names)\n",
    "\n",
    "# Add text annotations\n",
    "for i in range(3):\n",
    "    for j in range(3):\n",
    "        axes[1].text(j, i, str(cm[i, j]), ha=\"center\", va=\"center\",\n",
    "                    color=\"white\" if cm[i, j] > cm.max() / 2 else \"black\")\n",
    "\n",
    "plt.colorbar(im, ax=axes[1])\n",
    "plt.tight_layout()\n",
    "plt.show()\n",
    "\n",
    "print(\"\\n✅ Complete ML pipeline executed successfully!\")\n",
    "print(\"🎉 Your environment is perfectly configured for the course!\")"
   ]
  },
  {
   "cell_type": "markdown",
   "id": "2581d73a",
   "metadata": {},
   "source": [
    "## 🔧 Part 5: Troubleshooting Within Jupyter\n",
    "\n",
    "### Common Issues and Solutions\n",
    "\n",
    "#### Package Import Errors\n",
    "\n",
    "If you get `ModuleNotFoundError`:\n",
    "```python\n",
    "# Check if package is installed\n",
    "!pip list | grep package_name\n",
    "\n",
    "# Install missing package\n",
    "!pip install package_name\n",
    "```"
   ]
  },
  {
   "cell_type": "markdown",
   "id": "41030bed",
   "metadata": {},
   "source": [
    "#### Memory Issues\n",
    "- Restart kernel: Kernel → Restart\n",
    "- Clear outputs: Cell → All Output → Clear\n",
    "\n",
    "#### Jupyter Issues\n",
    "- Kernel died: Usually memory issue, restart kernel\n",
    "- Slow performance: Close other notebooks, clear outputs\n",
    "\n",
    "#### Package Version Conflicts\n",
    "```python\n",
    "# Check package version\n",
    "import package\n",
    "print(package.__version__)\n",
    "\n",
    "# Upgrade package\n",
    "!pip install --upgrade package_name\n",
    "```"
   ]
  },
  {
   "cell_type": "markdown",
   "id": "96b77ec2",
   "metadata": {},
   "source": [
    "### Daily Workflow Reminder\n",
    "\n",
    "```bash\n",
    "# 1. Navigate to project\n",
    "cd path/to/learn-ml-by-building\n",
    "\n",
    "# 2. Activate environment\n",
    "source ml_lectures_env/bin/activate     # Mac/Linux\n",
    "ml_lectures_env\\Scripts\\activate         # Windows\n",
    "\n",
    "# 3. Start Jupyter\n",
    "jupyter notebook\n",
    "\n",
    "# 4. Open lecture notebook and learn!\n",
    "```\n",
    "\n",
    "### Tips for Success\n",
    "\n",
    "1. **Run code cells sequentially** - Order matters!\n",
    "2. **Experiment freely** - Change parameters and see what happens\n",
    "3. **Read error messages** - They're more helpful than you think\n",
    "4. **Take notes** - Create your own summary notebooks\n",
    "5. **Practice daily** - Even 30 minutes makes a difference"
   ]
  }
 ],
 "metadata": {
  "kernelspec": {
   "display_name": "Python (ml_lectures_env)",
   "language": "python",
   "name": "ml_lectures_env"
  },
  "language_info": {
   "codemirror_mode": {
    "name": "ipython",
    "version": 3
   },
   "file_extension": ".py",
   "mimetype": "text/x-python",
   "name": "python",
   "nbconvert_exporter": "python",
   "pygments_lexer": "ipython3",
   "version": "3.9.6"
  }
 },
 "nbformat": 4,
 "nbformat_minor": 5
}
