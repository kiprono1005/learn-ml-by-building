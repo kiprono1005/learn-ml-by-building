{
 "cells": [
  {
   "cell_type": "markdown",
   "id": "acf9673a",
   "metadata": {
    "slideshow": {
     "slide_type": "slide"
    }
   },
   "source": [
    "# Machine Learning: Foundations and Applications\n",
    "## Lecture 1: Course Introduction and Building Your First Model\n",
    "\n",
    "**Approach:** Learn by building, understand through practice"
   ]
  },
  {
   "cell_type": "markdown",
   "id": "9c28bcfe",
   "metadata": {
    "slideshow": {
     "slide_type": "slide"
    }
   },
   "source": [
    "### Your Instructor\n",
    "**Dr. Ming Jin** \n",
    "- Research focus: **Trustworthy AI and Safety**\n",
    "- Goal: Building AI systems that align with human values and operate reliably\n",
    "\n",
    "### Your TA\n",
    "**Kamal Sherawat** \n",
    "- Focus on practical implementation and deployment\n",
    "- Email: kamals@vt.edu"
   ]
  },
  {
   "cell_type": "markdown",
   "id": "a2654072",
   "metadata": {
    "slideshow": {
     "slide_type": "slide"
    }
   },
   "source": [
    "## Our Teaching Philosophy: Build First, Understand Later\n",
    "\n",
    "### The Approach\n",
    "**\"Understanding through implementation, theory through practice\"**\n",
    "1. **Build and Deploy** - Implement real ML systems from scratch\n",
    "2. **Understand Fundamentals** - Master core principles behind modern AI/ML\n",
    "3. **Consider Safety** - Evaluate robustness, fairness, and alignment\n",
    "\n",
    "*Note: Our project-first, hands-on approach is inspired by the excellent work from [fast.ai](https://www.fast.ai/)*"
   ]
  },
  {
   "cell_type": "markdown",
   "id": "ae696d87",
   "metadata": {
    "slideshow": {
     "slide_type": "slide"
    }
   },
   "source": [
    "## Course Structure and Assessment\n",
    "\n",
    "### Your Grade Components\n",
    "\n",
    "| Component | Weight | Description |\n",
    "|-----------|--------|-------------|\n",
    "| **Portfolio Projects** | 45% | 3 projects × 15% each |\n",
    "| **Capstone Project** | 45% | Semester-long research project |\n",
    "| **ML Videos for Kids** | 6% | 2 videos × 3% each |\n",
    "| **Participation** | 4% | Piazza answers & in-class engagement |\n",
    "\n",
    "**Philosophy:** No exams – continuous assessment through practical implementation\n",
    "\n",
    "### Capstone Project: Your Research Contribution (45%)\n",
    "\n",
    "#### Team Structure\n",
    "- **Ideal size:** 2-3 members (collaboration recommended)\n",
    "- **Solo projects:** Permitted\n",
    "- **Large teams (4+):** Require explicit approval with justification\n",
    "\n",
    "#### Project Scope Options\n",
    "- **Application:** Novel use cases for existing algorithms\n",
    "- **Algorithm Innovation:** Improving or creating new methods\n",
    "- **Build on Lecture Notes/Portfolio Projects:** Introduce new contributions and advancements, deeper analysis\n",
    "\n",
    "#### Assessment Breakdown\n",
    "- Proposal: 10%\n",
    "- Milestone Report: 20%\n",
    "- Spotlight Presentation: 10%\n",
    "- Final Report & Code: 60%\n",
    "\n",
    "**Detailed rubrics:** https://docs.google.com/document/d/e/2PACX-1vQCaCK1ku9NxT9z9XEUc6PjGoy_sHGqjU5vB3ib3I-xzbi-Wl8AS5i2K9BfUui_NSR7AkuB3IQqDfmW/pub\n",
    "\n",
    "### ML Videos for Kids (6%)\n",
    "- Create two 3-minute educational videos\n",
    "- Explain ML/AI concepts to elementary school audience\n",
    "- Best submissions presented in class\n",
    "- \"If you can't explain it simply, you don't understand it well enough\"\n"
   ]
  },
  {
   "cell_type": "markdown",
   "id": "80857da4",
   "metadata": {
    "slideshow": {
     "slide_type": "slide"
    }
   },
   "source": [
    "## Course Resources\n",
    "\n",
    "### Platforms\n",
    "- **Course Website:** https://jinming99.github.io/learn-ml-by-building\n",
    "- **Canvas:** Assignments, submissions, grades\n",
    "- **Piazza:** Announcements, Q&A, collaboration\n",
    "- **GitHub:** https://github.com/jinming99/learn-ml-by-building\n",
    "\n",
    "### Learning Environment\n",
    "- **In Class:** Laptops essential, questions encouraged, experiment freely\n",
    "- **Outside Class:** Collaboration encouraged, maintain academic integrity"
   ]
  },
  {
   "cell_type": "markdown",
   "id": "4f472ea2",
   "metadata": {
    "slideshow": {
     "slide_type": "slide"
    }
   },
   "source": [
    "\n",
    "## Before Next Class\n",
    "\n",
    "### Essential Setup (Do This First!)\n",
    "1. **Environment Setup**: https://jinming99.github.io/learn-ml-by-building/lectures/00-setup.html\n",
    "\n",
    "2. **Join Piazza**: https://piazza.com/class/melrw2iqdro2ar/post/7  Access Code: ML2025\n",
    "    \n",
    "3. **Experiment**: Play with today's notebook; Break things, try different parameters\n",
    "\n",
    "4. **Complete Matchmaker Form** by Tue 8/26, 12:00 PM ET. Required for Lecture 2: k-NN; counts toward participation. Link: https://docs.google.com/forms/d/e/1FAIpQLSfx5iz7JF3ePe1-c-HkKMlxiUICjjog9D89YGy5VtqfhUFu_g/viewform\n",
    "\n",
    "### Next Class: Wednesday\n",
    "**k-Nearest Neighbors** - Your first algorithm from scratch\n",
    "- Beautifully simple\n",
    "- Surprisingly powerful\n",
    "- Foundation for understanding complex methods"
   ]
  },
  {
   "cell_type": "markdown",
   "id": "accb328e",
   "metadata": {
    "slideshow": {
     "slide_type": "slide"
    }
   },
   "source": [
    "\n",
    "# Building an AI Assistant: Pet Shop Customer Service\n",
    "\n",
    "## Learning Through Implementation\n",
    "\n",
    "### What We'll Build:\n",
    "A specialized assistant using [**Gemma-3-270m**](https://developers.googleblog.com/en/introducing-gemma-3-270m/) fine-tuned for pet care domain\n",
    "\n",
    "### Concepts We'll Explore:\n",
    "- **Supervised Learning** - Training with labeled examples\n",
    "- **Unsupervised Learning** - Finding patterns and structures without labels\n",
    "- **Active Learning** - Strategic data selection\n",
    "\n",
    "### Remember\n",
    "- You're not expected to understand everything today\n",
    "- This is a preview of what you'll master\n",
    "- Confusion is temporary, skills are permanent"
   ]
  },
  {
   "cell_type": "markdown",
   "id": "6516121d",
   "metadata": {
    "slideshow": {
     "slide_type": "slide"
    }
   },
   "source": [
    "\n",
    "## Looking Ahead\n",
    "\n",
    "### Why This Course Matters\n",
    "- ML is transforming every field\n",
    "- Responsible development requires deep understanding\n",
    "- Your work will impact real people and systems\n",
    "\n",
    "### Our Commitment\n",
    "- Rigorous technical foundation\n",
    "- Practical implementation skills\n",
    "- Ethical considerations throughout\n",
    "\n",
    "### Wednesday's Class:\n",
    "k-Nearest Neighbors - Your first complete ML algorithm\n"
   ]
  }
 ],
 "metadata": {
  "celltoolbar": "Slideshow",
  "kernelspec": {
   "display_name": "Python (ml_lectures_env)",
   "language": "python",
   "name": "ml_lectures_env"
  },
  "language_info": {
   "codemirror_mode": {
    "name": "ipython",
    "version": 3
   },
   "file_extension": ".py",
   "mimetype": "text/x-python",
   "name": "python",
   "nbconvert_exporter": "python",
   "pygments_lexer": "ipython3",
   "version": "3.9.6"
  }
 },
 "nbformat": 4,
 "nbformat_minor": 5
}
